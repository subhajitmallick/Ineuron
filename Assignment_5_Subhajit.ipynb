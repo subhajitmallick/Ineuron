{
 "cells": [
  {
   "cell_type": "markdown",
   "id": "42233cf1",
   "metadata": {},
   "source": [
    "### 1. What does an empty dictionary&#39;s code look like?"
   ]
  },
  {
   "cell_type": "code",
   "execution_count": 1,
   "id": "f4bce3da",
   "metadata": {},
   "outputs": [
    {
     "data": {
      "text/plain": [
       "dict"
      ]
     },
     "execution_count": 1,
     "metadata": {},
     "output_type": "execute_result"
    }
   ],
   "source": [
    "dict = {}                  # Empty dictionary\n",
    "type(dict)"
   ]
  },
  {
   "cell_type": "markdown",
   "id": "f0f8eaf4",
   "metadata": {},
   "source": [
    "### 2. What is the value of a dictionary value with the key &#39;foo&#39; and the value 42?"
   ]
  },
  {
   "cell_type": "code",
   "execution_count": 2,
   "id": "d807a518",
   "metadata": {},
   "outputs": [
    {
     "data": {
      "text/plain": [
       "{'foo': 42}"
      ]
     },
     "execution_count": 2,
     "metadata": {},
     "output_type": "execute_result"
    }
   ],
   "source": [
    "{\n",
    "    'foo': 42\n",
    "}"
   ]
  },
  {
   "cell_type": "markdown",
   "id": "c0179d9b",
   "metadata": {},
   "source": [
    "### 3. What is the most significant distinction between a dictionary and a list?"
   ]
  },
  {
   "cell_type": "markdown",
   "id": "fc682c69",
   "metadata": {},
   "source": [
    "Most significant difference in between a dictionary and a list: <br>\n",
    "List : Items in list are Ordered. <br>\n",
    "Dictionary : Items in dictionary are unordered."
   ]
  },
  {
   "cell_type": "markdown",
   "id": "e037fa88",
   "metadata": {},
   "source": [
    "### 4. What happens if you try to access spam[&#39;foo&#39;] if spam is {&#39;bar&#39;: 100}?"
   ]
  },
  {
   "cell_type": "code",
   "execution_count": 3,
   "id": "064682f4",
   "metadata": {},
   "outputs": [
    {
     "ename": "KeyError",
     "evalue": "'foo'",
     "output_type": "error",
     "traceback": [
      "\u001b[1;31m---------------------------------------------------------------------------\u001b[0m",
      "\u001b[1;31mKeyError\u001b[0m                                  Traceback (most recent call last)",
      "Input \u001b[1;32mIn [3]\u001b[0m, in \u001b[0;36m<cell line: 4>\u001b[1;34m()\u001b[0m\n\u001b[0;32m      1\u001b[0m spam \u001b[38;5;241m=\u001b[39m {\n\u001b[0;32m      2\u001b[0m             \u001b[38;5;124m'\u001b[39m\u001b[38;5;124mbar\u001b[39m\u001b[38;5;124m'\u001b[39m:\u001b[38;5;241m100\u001b[39m\n\u001b[0;32m      3\u001b[0m        }\n\u001b[1;32m----> 4\u001b[0m \u001b[43mspam\u001b[49m\u001b[43m[\u001b[49m\u001b[38;5;124;43m'\u001b[39;49m\u001b[38;5;124;43mfoo\u001b[39;49m\u001b[38;5;124;43m'\u001b[39;49m\u001b[43m]\u001b[49m\n",
      "\u001b[1;31mKeyError\u001b[0m: 'foo'"
     ]
    }
   ],
   "source": [
    "spam = {\n",
    "            'bar':100\n",
    "       }\n",
    "spam['foo']                #This will give us key error"
   ]
  },
  {
   "cell_type": "markdown",
   "id": "eb9dcf45",
   "metadata": {},
   "source": [
    "### 5. If a dictionary is stored in spam, what is the difference between the expressions &#39;cat&#39; in spam and &#39;cat&#39; in spam.keys()?"
   ]
  },
  {
   "cell_type": "code",
   "execution_count": 4,
   "id": "0d4ba921",
   "metadata": {},
   "outputs": [],
   "source": [
    "spam = {\n",
    "            'cat':100\n",
    "       }"
   ]
  },
  {
   "cell_type": "code",
   "execution_count": 5,
   "id": "d80cf24f",
   "metadata": {},
   "outputs": [
    {
     "data": {
      "text/plain": [
       "True"
      ]
     },
     "execution_count": 5,
     "metadata": {},
     "output_type": "execute_result"
    }
   ],
   "source": [
    "'cat' in spam"
   ]
  },
  {
   "cell_type": "code",
   "execution_count": 6,
   "id": "c29061d2",
   "metadata": {},
   "outputs": [
    {
     "data": {
      "text/plain": [
       "True"
      ]
     },
     "execution_count": 6,
     "metadata": {},
     "output_type": "execute_result"
    }
   ],
   "source": [
    "'cat' in spam.keys()      # There is no differnce, both check if 'cat' is key of the dictionary and if its a key, returns True."
   ]
  },
  {
   "cell_type": "markdown",
   "id": "9fff4d9d",
   "metadata": {},
   "source": [
    "### 6. If a dictionary is stored in spam, what is the difference between the expressions &#39;cat&#39; in spam and &#39;cat&#39; in spam.values()?"
   ]
  },
  {
   "cell_type": "code",
   "execution_count": 7,
   "id": "84dae62d",
   "metadata": {},
   "outputs": [],
   "source": [
    "spam = {\n",
    "            'cat':100\n",
    "       }"
   ]
  },
  {
   "cell_type": "code",
   "execution_count": 8,
   "id": "26c09bcd",
   "metadata": {},
   "outputs": [
    {
     "data": {
      "text/plain": [
       "True"
      ]
     },
     "execution_count": 8,
     "metadata": {},
     "output_type": "execute_result"
    }
   ],
   "source": [
    "'cat' in spam             # 'cat' in spam checks whether there is a 'cat' key in the dictionary."
   ]
  },
  {
   "cell_type": "code",
   "execution_count": 9,
   "id": "159beec9",
   "metadata": {},
   "outputs": [
    {
     "data": {
      "text/plain": [
       "False"
      ]
     },
     "execution_count": 9,
     "metadata": {},
     "output_type": "execute_result"
    }
   ],
   "source": [
    "'cat' in spam.values()    # 'cat' in spam.values() checks whether there is a value 'cat' for one of the keys in spam."
   ]
  },
  {
   "cell_type": "markdown",
   "id": "97f17ad0",
   "metadata": {},
   "source": [
    "### 7. What is a shortcut for the following code? <br>\n",
    "if &#39;color&#39; not in spam: <br>\n",
    "&emsp;spam[&#39;color&#39;] = &#39;black&#39;"
   ]
  },
  {
   "cell_type": "code",
   "execution_count": 10,
   "id": "0213dd80",
   "metadata": {},
   "outputs": [],
   "source": [
    "spam = {\n",
    "            'cat':100\n",
    "       }"
   ]
  },
  {
   "cell_type": "code",
   "execution_count": 11,
   "id": "214193f4",
   "metadata": {},
   "outputs": [
    {
     "data": {
      "text/plain": [
       "{'cat': 100, 'color': 'black'}"
      ]
     },
     "execution_count": 11,
     "metadata": {},
     "output_type": "execute_result"
    }
   ],
   "source": [
    "spam.setdefault('color','black')\n",
    "spam"
   ]
  },
  {
   "cell_type": "markdown",
   "id": "df7ed347",
   "metadata": {},
   "source": [
    "### 8. How do you &quot;pretty print&quot; dictionary values using which module and function?"
   ]
  },
  {
   "cell_type": "code",
   "execution_count": 12,
   "id": "42718de5",
   "metadata": {},
   "outputs": [],
   "source": [
    "import pprint"
   ]
  },
  {
   "cell_type": "code",
   "execution_count": 13,
   "id": "930df6c3",
   "metadata": {},
   "outputs": [],
   "source": [
    "dict_1 = [ {'NAME': 'SUBHA', 'AGE': '29', 'PHN': 9853420199},\n",
    "           {'NAME': 'JIT', 'AGE': '20', 'PHN': 8853340136},\n",
    "           {'NAME': 'DIBYO', 'AGE': '21', 'PHN': 7656420135},\n",
    "           {'NAME': 'BISWA', 'AGE': '55', 'PHN': 6558460134}\n",
    "         ]"
   ]
  },
  {
   "cell_type": "code",
   "execution_count": 14,
   "id": "ccc38a18",
   "metadata": {},
   "outputs": [
    {
     "name": "stdout",
     "output_type": "stream",
     "text": [
      "[{'AGE': '29', 'NAME': 'SUBHA', 'PHN': 9853420199},\n",
      " {'AGE': '20', 'NAME': 'JIT', 'PHN': 8853340136},\n",
      " {'AGE': '21', 'NAME': 'DIBYO', 'PHN': 7656420135},\n",
      " {'AGE': '55', 'NAME': 'BISWA', 'PHN': 6558460134}]\n"
     ]
    }
   ],
   "source": [
    "pprint.pprint(dict_1)                 # printing with pprint()"
   ]
  },
  {
   "cell_type": "code",
   "execution_count": 15,
   "id": "2d7b1bf3",
   "metadata": {},
   "outputs": [
    {
     "name": "stdout",
     "output_type": "stream",
     "text": [
      "[{'NAME': 'SUBHA', 'AGE': '29', 'PHN': 9853420199}, {'NAME': 'JIT', 'AGE': '20', 'PHN': 8853340136}, {'NAME': 'DIBYO', 'AGE': '21', 'PHN': 7656420135}, {'NAME': 'BISWA', 'AGE': '55', 'PHN': 6558460134}]\n"
     ]
    }
   ],
   "source": [
    "print(dict_1)                        # Printing with print()"
   ]
  },
  {
   "cell_type": "code",
   "execution_count": null,
   "id": "0ed44272",
   "metadata": {},
   "outputs": [],
   "source": []
  }
 ],
 "metadata": {
  "kernelspec": {
   "display_name": "Python 3 (ipykernel)",
   "language": "python",
   "name": "python3"
  },
  "language_info": {
   "codemirror_mode": {
    "name": "ipython",
    "version": 3
   },
   "file_extension": ".py",
   "mimetype": "text/x-python",
   "name": "python",
   "nbconvert_exporter": "python",
   "pygments_lexer": "ipython3",
   "version": "3.9.12"
  }
 },
 "nbformat": 4,
 "nbformat_minor": 5
}
