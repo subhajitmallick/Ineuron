{
 "cells": [
  {
   "cell_type": "markdown",
   "id": "f0fcc2d9",
   "metadata": {},
   "source": [
    "### 1.What are the two values of the Boolean data type? How do you write them?"
   ]
  },
  {
   "cell_type": "markdown",
   "id": "12e3bcac",
   "metadata": {},
   "source": [
    "Boolean datatype can have two values: <br>\n",
    "1.True <br>\n",
    "2.False"
   ]
  },
  {
   "cell_type": "markdown",
   "id": "4c7728dc",
   "metadata": {},
   "source": [
    "### 2. What are the three different types of Boolean operators?"
   ]
  },
  {
   "cell_type": "markdown",
   "id": "76fda892",
   "metadata": {},
   "source": [
    "Three different types of Boolean operators are: <br>\n",
    "1) AND <br>\n",
    "2) OR <br>\n",
    "3) NOT <br>"
   ]
  },
  {
   "cell_type": "markdown",
   "id": "62e161bb",
   "metadata": {},
   "source": [
    "### 3. Make a list of each Boolean operator&#39;s truth tables (i.e. every possible combination of Boolean values for the operator and what it evaluate )."
   ]
  },
  {
   "cell_type": "markdown",
   "id": "b551fab6",
   "metadata": {},
   "source": [
    "Truth Table - AND Operator:\n",
    "\n",
    "&nbsp; A &emsp;&emsp; B &emsp; A and B <br>\n",
    "True &nbsp; True &nbsp; True  <br>\n",
    "True &nbsp; False &nbsp; False  <br>\n",
    "False &nbsp; True &nbsp; False <br>\n",
    "False &nbsp; False &nbsp; False <br>\n",
    "\n",
    "Truth Table - OR Operator:\n",
    "\n",
    "&nbsp; A &emsp;&emsp; B &emsp; A or B <br>\n",
    "True &nbsp; True &nbsp; True  <br>\n",
    "True &nbsp; False &nbsp; True  <br>\n",
    "False &nbsp; True &nbsp; True <br>\n",
    "False &nbsp; False &nbsp; False <br>\n",
    "\n",
    "Truth Table - NOT Operator:\n",
    "\n",
    "&nbsp; A &emsp;&nbsp; not A <br>\n",
    "True &nbsp; False <br>\n",
    "False &nbsp; True"
   ]
  },
  {
   "cell_type": "markdown",
   "id": "2417b168",
   "metadata": {},
   "source": [
    "### 4. What are the values of the following expressions?\n",
    "#### (5 &gt; 4) and (3 == 5)\n",
    "#### not (5 &gt; 4)\n",
    "#### (5 &gt; 4) or (3 == 5)\n",
    "#### not ((5 &gt; 4) or (3 == 5))\n",
    "#### (True and True) and (True == False)\n",
    "#### (not False) or (not True)"
   ]
  },
  {
   "cell_type": "code",
   "execution_count": 1,
   "id": "f1d5cb41",
   "metadata": {},
   "outputs": [
    {
     "data": {
      "text/plain": [
       "False"
      ]
     },
     "execution_count": 1,
     "metadata": {},
     "output_type": "execute_result"
    }
   ],
   "source": [
    "(5 > 4) and (3 == 5)"
   ]
  },
  {
   "cell_type": "code",
   "execution_count": 2,
   "id": "9ef90227",
   "metadata": {},
   "outputs": [
    {
     "data": {
      "text/plain": [
       "False"
      ]
     },
     "execution_count": 2,
     "metadata": {},
     "output_type": "execute_result"
    }
   ],
   "source": [
    "not (5 > 4)"
   ]
  },
  {
   "cell_type": "code",
   "execution_count": 3,
   "id": "de5dfe80",
   "metadata": {},
   "outputs": [
    {
     "data": {
      "text/plain": [
       "False"
      ]
     },
     "execution_count": 3,
     "metadata": {},
     "output_type": "execute_result"
    }
   ],
   "source": [
    "not ((5 > 4) or (3 == 5))"
   ]
  },
  {
   "cell_type": "code",
   "execution_count": 4,
   "id": "2e57bfd3",
   "metadata": {},
   "outputs": [
    {
     "data": {
      "text/plain": [
       "True"
      ]
     },
     "execution_count": 4,
     "metadata": {},
     "output_type": "execute_result"
    }
   ],
   "source": [
    "(5 > 4) or (3 == 5)"
   ]
  },
  {
   "cell_type": "code",
   "execution_count": 5,
   "id": "a1e4c89d",
   "metadata": {},
   "outputs": [
    {
     "data": {
      "text/plain": [
       "False"
      ]
     },
     "execution_count": 5,
     "metadata": {},
     "output_type": "execute_result"
    }
   ],
   "source": [
    "(True and True) and (True == False)"
   ]
  },
  {
   "cell_type": "code",
   "execution_count": 6,
   "id": "c980c5fb",
   "metadata": {},
   "outputs": [
    {
     "data": {
      "text/plain": [
       "True"
      ]
     },
     "execution_count": 6,
     "metadata": {},
     "output_type": "execute_result"
    }
   ],
   "source": [
    "(not False) or (not True)"
   ]
  },
  {
   "cell_type": "markdown",
   "id": "1c24cbe4",
   "metadata": {},
   "source": [
    "### 5. What are the six comparison operators?"
   ]
  },
  {
   "cell_type": "markdown",
   "id": "68dd9fe3",
   "metadata": {},
   "source": [
    "Six comparison operators are: <br>\n",
    "1) less than <br>\n",
    "2) greater than <br>\n",
    "3) less than or equal to <br>\n",
    "4) greater than or equal to <br>\n",
    "5) equal to <br>\n",
    "6) not equal to"
   ]
  },
  {
   "cell_type": "markdown",
   "id": "aa82c6d1",
   "metadata": {},
   "source": [
    "### 6. How do you tell the difference between the equal to and assignment operators?Describe a condition and when you would use one. "
   ]
  },
  {
   "cell_type": "markdown",
   "id": "7ac1f447",
   "metadata": {},
   "source": [
    "The “=” is an assignment operator is used to assign the value on the right to the variable on the left. <br>\n",
    "For example: <br>\n",
    "a = 17 <br>\n",
    "\n",
    "The '==' operator checks whether the two given operands are equal or not. If so, it returns true. Otherwise it returns false. <br> \n",
    "For example: <br>\n",
    "7==17 <br>\n",
    "This will return false."
   ]
  },
  {
   "cell_type": "markdown",
   "id": "8c065668",
   "metadata": {},
   "source": [
    "### 7. Identify the three blocks in this code:"
   ]
  },
  {
   "cell_type": "markdown",
   "id": "07679b28",
   "metadata": {},
   "source": [
    "Three blocks comes under - <br>\n",
    "1) if spam == 10 statement, <br> \n",
    "2) if spam > 5 statement, <br> \n",
    "3) last one comes under else statement."
   ]
  },
  {
   "cell_type": "code",
   "execution_count": 7,
   "id": "263cca47",
   "metadata": {},
   "outputs": [
    {
     "name": "stdout",
     "output_type": "stream",
     "text": [
      "ham\n",
      "spam\n",
      "spam\n"
     ]
    }
   ],
   "source": [
    "spam = 0\n",
    "if spam == 10:\n",
    "    print('eggs')   # block - 1\n",
    "if spam > 5:\n",
    "    print('bacon')  # block - 2\n",
    "else:\n",
    "    print('ham')    # block - 3\n",
    "    print('spam')   \n",
    "    print('spam')   "
   ]
  },
  {
   "cell_type": "markdown",
   "id": "29426546",
   "metadata": {},
   "source": [
    "### 8. Write code that prints Hello if 1 is stored in spam, prints Howdy if 2 is stored in spam, and prints Greetings! if anything else is stored in spam."
   ]
  },
  {
   "cell_type": "code",
   "execution_count": 8,
   "id": "793f6838",
   "metadata": {},
   "outputs": [
    {
     "name": "stdout",
     "output_type": "stream",
     "text": [
      "Greetings!\n"
     ]
    }
   ],
   "source": [
    "spam = 0\n",
    "if spam == 1:\n",
    "    print('Hello')\n",
    "elif spam == 2:\n",
    "    print('Howdy')\n",
    "else:\n",
    "    print('Greetings!')"
   ]
  },
  {
   "cell_type": "markdown",
   "id": "d2dc6737",
   "metadata": {},
   "source": [
    "### 9.If your programme is stuck in an endless loop, what keys you’ll press?"
   ]
  },
  {
   "cell_type": "markdown",
   "id": "ebdb2bc7",
   "metadata": {},
   "source": [
    "I will stop an infinite loop with CTRL + C"
   ]
  },
  {
   "cell_type": "markdown",
   "id": "80eab4de",
   "metadata": {},
   "source": [
    "### 10. How can you tell the difference between break and continue? "
   ]
  },
  {
   "cell_type": "markdown",
   "id": "06b6bad1",
   "metadata": {},
   "source": [
    "The main difference between break and continue is: <br>\n",
    "\n",
    "Break Statement: <br>\n",
    "It terminates the execution of the current loop and passes the control over the next loop or main body. <br>\n",
    "\n",
    "Continue Statement: <br>\n",
    "It skips the current iteration and executes the very next iteration in the loop."
   ]
  },
  {
   "cell_type": "markdown",
   "id": "96ad763e",
   "metadata": {},
   "source": [
    "### 11. In a for loop, what is the difference between range(10), range(0, 10), and range(0, 10, 1)? "
   ]
  },
  {
   "cell_type": "markdown",
   "id": "564715b6",
   "metadata": {},
   "source": [
    "range(10): <br>\n",
    "It defines range(stop). <br>\n",
    "When the user call range() with one argument, the user will get a series of numbers that starts at 0 and includes every whole number up to but not including, the number that the user has provided as the stop."
   ]
  },
  {
   "cell_type": "code",
   "execution_count": 9,
   "id": "c38e1373",
   "metadata": {},
   "outputs": [
    {
     "name": "stdout",
     "output_type": "stream",
     "text": [
      "0 1 2 3 4 5 6 7 8 9 "
     ]
    }
   ],
   "source": [
    "for i in range(10):\n",
    "    print(i, end=\" \")"
   ]
  },
  {
   "cell_type": "markdown",
   "id": "8ef33108",
   "metadata": {},
   "source": [
    "range(0, 10): <br>\n",
    "It defines range(start,stop). <br>\n",
    "When the user call range() with two arguments, the user gets to decide not only where the series of numbers stops but also where it starts, so the user don’t have to start at 0 all the time. Users can use range() to generate a series of numbers from X to Y using range(X, Y)."
   ]
  },
  {
   "cell_type": "code",
   "execution_count": 10,
   "id": "3476ad3e",
   "metadata": {},
   "outputs": [
    {
     "name": "stdout",
     "output_type": "stream",
     "text": [
      "0 1 2 3 4 5 6 7 8 9 "
     ]
    }
   ],
   "source": [
    "for i in range(0,10):\n",
    "    print(i, end=\" \")"
   ]
  },
  {
   "cell_type": "markdown",
   "id": "42bddb68",
   "metadata": {},
   "source": [
    "range(0, 10, 1): <br>\n",
    "It defines range(start,stop,step). <br>\n",
    "When the user call range() with three arguments, the user can choose not only where the series of numbers will start and stop but also how big the difference will be between one number and the next. If the user doesn’t provide a step, then range() will automatically behave as if the step is 1."
   ]
  },
  {
   "cell_type": "code",
   "execution_count": 11,
   "id": "042bab2f",
   "metadata": {},
   "outputs": [
    {
     "name": "stdout",
     "output_type": "stream",
     "text": [
      "0 1 2 3 4 5 6 7 8 9 "
     ]
    }
   ],
   "source": [
    "for i in range(0, 10, 1):\n",
    "    print(i, end=\" \")"
   ]
  },
  {
   "cell_type": "markdown",
   "id": "8e3a3859",
   "metadata": {},
   "source": [
    "### 12. Write a short program that prints the numbers 1 to 10 using a for loop. Then write an equivalent program that prints the numbers 1 to 10 using a while loop. "
   ]
  },
  {
   "cell_type": "code",
   "execution_count": 12,
   "id": "607e01bf",
   "metadata": {},
   "outputs": [
    {
     "name": "stdout",
     "output_type": "stream",
     "text": [
      "1 2 3 4 5 6 7 8 9 10 "
     ]
    }
   ],
   "source": [
    "for i in range(1,11):\n",
    "    print(i, end=\" \")"
   ]
  },
  {
   "cell_type": "code",
   "execution_count": 13,
   "id": "7aebc7b1",
   "metadata": {},
   "outputs": [
    {
     "name": "stdout",
     "output_type": "stream",
     "text": [
      "1 2 3 4 5 6 7 8 9 10 "
     ]
    }
   ],
   "source": [
    "i = 1\n",
    "while i<11:\n",
    "    print(i, end=\" \")\n",
    "    i += 1"
   ]
  },
  {
   "cell_type": "markdown",
   "id": "fa130659",
   "metadata": {},
   "source": [
    "### 13. If you had a function named bacon() inside a module named spam, how would you call it after importing spam? "
   ]
  },
  {
   "cell_type": "markdown",
   "id": "30de8889",
   "metadata": {},
   "source": [
    "This function can be called with - spam.bacon()"
   ]
  },
  {
   "cell_type": "code",
   "execution_count": null,
   "id": "f4817301",
   "metadata": {},
   "outputs": [],
   "source": []
  }
 ],
 "metadata": {
  "kernelspec": {
   "display_name": "Python 3 (ipykernel)",
   "language": "python",
   "name": "python3"
  },
  "language_info": {
   "codemirror_mode": {
    "name": "ipython",
    "version": 3
   },
   "file_extension": ".py",
   "mimetype": "text/x-python",
   "name": "python",
   "nbconvert_exporter": "python",
   "pygments_lexer": "ipython3",
   "version": "3.9.12"
  }
 },
 "nbformat": 4,
 "nbformat_minor": 5
}
