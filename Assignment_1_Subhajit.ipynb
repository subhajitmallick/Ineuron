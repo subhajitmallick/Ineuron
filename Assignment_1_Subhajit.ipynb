{
 "cells": [
  {
   "cell_type": "markdown",
   "id": "5531d8c1",
   "metadata": {},
   "source": [
    "## 1. In the below elements which of them are values or an expression? eg:- values can be\n",
    "### integer or string and expressions will be mathematical operators.\n",
    "#### *, \n",
    "#### &#39;hello&#39;, \n",
    "#### -87.8,\n",
    "#### -,\n",
    "#### /,\n",
    "#### +,\n",
    "#### 6"
   ]
  },
  {
   "cell_type": "markdown",
   "id": "8b9bd80e",
   "metadata": {},
   "source": [
    "* --> expression  \n",
    "'hello' --> value  \n",
    "-87.8 --> value  \n",
    "- --> expression  \n",
    "/ --> expression  \n",
    "+ --> expression  \n",
    "6 --> value"
   ]
  },
  {
   "cell_type": "markdown",
   "id": "1d513e5c",
   "metadata": {},
   "source": [
    "### 2. What is the difference between string and variable?"
   ]
  },
  {
   "cell_type": "markdown",
   "id": "a11a95f6",
   "metadata": {},
   "source": [
    "Variables are just only a kin of name that we can use to store data in a program.  \n",
    "Whereas, Strings are data, So that we can use strings to fill a variable. "
   ]
  },
  {
   "cell_type": "markdown",
   "id": "d092e840",
   "metadata": {},
   "source": [
    "### 3. Describe three different data types."
   ]
  },
  {
   "cell_type": "markdown",
   "id": "3339c16b",
   "metadata": {},
   "source": [
    "1. String:  \n",
    "Strings are arrays of bytes representing Unicode characters. A string is a collection of one or more characters put in a single quote, double-quote or triple quote. In python there is no character data type, a character is a string of length one. It is represented by str class.  \n",
    "2. List:  \n",
    "Lists are just like the arrays, declared in other languages which is a ordered collection of data. It is very flexible as the items in a list do not need to be of the same type.  \n",
    "3. Tuple:  \n",
    "Tuple is also an ordered collection of Python objects. The only difference between tuple and list is that tuples are immutable i.e. tuples cannot be modified after it is created. It is represented by tuple class."
   ]
  },
  {
   "cell_type": "markdown",
   "id": "7af9eb4a",
   "metadata": {},
   "source": [
    "### 4. What is an expression made up of? What do all expressions do?"
   ]
  },
  {
   "cell_type": "markdown",
   "id": "b70b8735",
   "metadata": {},
   "source": [
    "An expression is a combination of operators and operands that is interpreted to produce some other value.  \n",
    "All expressions produce a value by using operators an operands."
   ]
  },
  {
   "cell_type": "markdown",
   "id": "7c1d3d76",
   "metadata": {},
   "source": [
    "### 5. This assignment statements, like spam = 10. What is the difference between an expression and a statement?"
   ]
  },
  {
   "cell_type": "markdown",
   "id": "ff7f82b1",
   "metadata": {},
   "source": [
    "An expression is always produce a value, like 1+4 is an expression. But at the same time sum = 1+4 is not an expression, it's an assignment statements like spam = 10."
   ]
  },
  {
   "cell_type": "markdown",
   "id": "ae0d1b4f",
   "metadata": {},
   "source": [
    "### 6. After running the following code, what does the variable bacon contain?  \n",
    "### bacon = 22  \n",
    "### bacon + 1"
   ]
  },
  {
   "cell_type": "code",
   "execution_count": 2,
   "id": "fd055f6f",
   "metadata": {},
   "outputs": [
    {
     "data": {
      "text/plain": [
       "23"
      ]
     },
     "execution_count": 2,
     "metadata": {},
     "output_type": "execute_result"
    }
   ],
   "source": [
    "bacon = 22\n",
    "bacon + 1"
   ]
  },
  {
   "cell_type": "markdown",
   "id": "61248b8d",
   "metadata": {},
   "source": [
    "### 7. What should the values of the following two terms be?  \n",
    "### &#39;spam&#39; + &#39;spamspam&#39;  \n",
    "### &#39;spam&#39; * 3"
   ]
  },
  {
   "cell_type": "code",
   "execution_count": 3,
   "id": "a37185b6",
   "metadata": {},
   "outputs": [
    {
     "data": {
      "text/plain": [
       "'spamspamspam'"
      ]
     },
     "execution_count": 3,
     "metadata": {},
     "output_type": "execute_result"
    }
   ],
   "source": [
    "'spam' + 'spamspam'"
   ]
  },
  {
   "cell_type": "code",
   "execution_count": 4,
   "id": "b1c1345b",
   "metadata": {},
   "outputs": [
    {
     "data": {
      "text/plain": [
       "'spamspamspam'"
      ]
     },
     "execution_count": 4,
     "metadata": {},
     "output_type": "execute_result"
    }
   ],
   "source": [
    "'spam' * 3"
   ]
  },
  {
   "cell_type": "markdown",
   "id": "dabd2f38",
   "metadata": {},
   "source": [
    "### 8. Why is eggs a valid variable name while 100 is invalid?"
   ]
  },
  {
   "cell_type": "markdown",
   "id": "0d347726",
   "metadata": {},
   "source": [
    "This is because we cannot initiate variable names with a number."
   ]
  },
  {
   "cell_type": "markdown",
   "id": "bed12d90",
   "metadata": {},
   "source": [
    "### 9. What three functions can be used to get the integer, floating-point number, or string version of a value?"
   ]
  },
  {
   "cell_type": "markdown",
   "id": "63113c83",
   "metadata": {},
   "source": [
    "int() is used to get the integer.  \n",
    "float() is used to get the floating-point number.  \n",
    "str() is used to get the string version of a value."
   ]
  },
  {
   "cell_type": "markdown",
   "id": "789376c2",
   "metadata": {},
   "source": [
    "### 10. Why does this expression cause an error? How can you fix it?  \n",
    "### &#39;I have eaten &#39; + 99 + &#39; burritos.&#39;"
   ]
  },
  {
   "cell_type": "markdown",
   "id": "c6522e6a",
   "metadata": {},
   "source": [
    "The error occurs because we cannot concatenate str with int. To make it happen, we nee to typecast the int value to str format."
   ]
  },
  {
   "cell_type": "code",
   "execution_count": 8,
   "id": "35cc0be2",
   "metadata": {},
   "outputs": [
    {
     "data": {
      "text/plain": [
       "'I have eaten 99 burritos.'"
      ]
     },
     "execution_count": 8,
     "metadata": {},
     "output_type": "execute_result"
    }
   ],
   "source": [
    "'I have eaten ' + str(99) + ' burritos.'"
   ]
  },
  {
   "cell_type": "code",
   "execution_count": null,
   "id": "2766060a",
   "metadata": {},
   "outputs": [],
   "source": []
  }
 ],
 "metadata": {
  "kernelspec": {
   "display_name": "Python 3 (ipykernel)",
   "language": "python",
   "name": "python3"
  },
  "language_info": {
   "codemirror_mode": {
    "name": "ipython",
    "version": 3
   },
   "file_extension": ".py",
   "mimetype": "text/x-python",
   "name": "python",
   "nbconvert_exporter": "python",
   "pygments_lexer": "ipython3",
   "version": "3.9.12"
  }
 },
 "nbformat": 4,
 "nbformat_minor": 5
}
