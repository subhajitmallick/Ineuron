{
 "cells": [
  {
   "cell_type": "markdown",
   "id": "20c9e451",
   "metadata": {},
   "source": [
    "1. In the below elements which of them are values or an expression? eg:- values can be\n",
    "integer or string and expressions will be mathematical operators.\n",
    "*, \n",
    "&#39;hello&#39;, \n",
    "-87.8,\n",
    "-,\n",
    "/,\n",
    "+,\n",
    "6"
   ]
  },
  {
   "cell_type": "raw",
   "id": "ace058d5",
   "metadata": {},
   "source": [
    "* --> expression\n",
    "'hello' --> value\n",
    "-87.8 --> value\n",
    "- --> expression\n",
    "/ --> expression\n",
    "+ --> expression\n",
    "6 --> value"
   ]
  },
  {
   "cell_type": "markdown",
   "id": "d16b9e5a",
   "metadata": {},
   "source": [
    "2. What is the difference between string and variable?"
   ]
  },
  {
   "cell_type": "raw",
   "id": "0994b48e",
   "metadata": {},
   "source": [
    "Variables are just only a kin of name that we can use to store data in a program.\n",
    "Whereas, Strings are data, So that we can use strings to fill a variable. "
   ]
  },
  {
   "cell_type": "markdown",
   "id": "3ff20d45",
   "metadata": {},
   "source": [
    "3. Describe three different data types."
   ]
  },
  {
   "cell_type": "raw",
   "id": "1a877677",
   "metadata": {},
   "source": [
    "1. String: \n",
    "Strings are arrays of bytes representing Unicode characters. A string is a collection of one or more characters put in a single quote, double-quote or triple quote. In python there is no character data type, a character is a string of length one. It is represented by str class.\n",
    "\n",
    "2. List:\n",
    "Lists are just like the arrays, declared in other languages which is a ordered collection of data. It is very flexible as the items in a list do not need to be of the same type.\n",
    "\n",
    "3. Tuple:\n",
    "Tuple is also an ordered collection of Python objects. The only difference between tuple and list is that tuples are immutable i.e. tuples cannot be modified after it is created. It is represented by tuple class."
   ]
  },
  {
   "cell_type": "markdown",
   "id": "8c1dd434",
   "metadata": {},
   "source": [
    "4. What is an expression made up of? What do all expressions do?"
   ]
  },
  {
   "cell_type": "raw",
   "id": "fc7ac0b3",
   "metadata": {},
   "source": [
    "An expression is a combination of operators and operands that is interpreted to produce some other value.\n",
    "All expressions produce a value by using operators an operands."
   ]
  },
  {
   "cell_type": "markdown",
   "id": "00652c88",
   "metadata": {},
   "source": [
    "5. This assignment statements, like spam = 10. What is the difference between an\n",
    "expression and a statement?"
   ]
  },
  {
   "cell_type": "raw",
   "id": "b1841293",
   "metadata": {},
   "source": [
    "An expression is always produce a value, like 1+4 is an expression. But at the same time sum = 1+4 is not an expression, it's an assignment statements like spam = 10."
   ]
  },
  {
   "cell_type": "markdown",
   "id": "89546f44",
   "metadata": {},
   "source": [
    "6. After running the following code, what does the variable bacon contain?  \n",
    "bacon = 22  \n",
    "bacon + 1"
   ]
  },
  {
   "cell_type": "code",
   "execution_count": 2,
   "id": "0fc9c4ab",
   "metadata": {},
   "outputs": [
    {
     "data": {
      "text/plain": [
       "23"
      ]
     },
     "execution_count": 2,
     "metadata": {},
     "output_type": "execute_result"
    }
   ],
   "source": [
    "bacon = 22\n",
    "bacon + 1"
   ]
  },
  {
   "cell_type": "markdown",
   "id": "9ddd54a3",
   "metadata": {},
   "source": [
    "7. What should the values of the following two terms be?  \n",
    "&#39;spam&#39; + &#39;spamspam&#39;  \n",
    "&#39;spam&#39; * 3"
   ]
  },
  {
   "cell_type": "code",
   "execution_count": 3,
   "id": "4441cdcb",
   "metadata": {},
   "outputs": [
    {
     "data": {
      "text/plain": [
       "'spamspamspam'"
      ]
     },
     "execution_count": 3,
     "metadata": {},
     "output_type": "execute_result"
    }
   ],
   "source": [
    "'spam' + 'spamspam'"
   ]
  },
  {
   "cell_type": "code",
   "execution_count": 4,
   "id": "defb1de8",
   "metadata": {},
   "outputs": [
    {
     "data": {
      "text/plain": [
       "'spamspamspam'"
      ]
     },
     "execution_count": 4,
     "metadata": {},
     "output_type": "execute_result"
    }
   ],
   "source": [
    "'spam' * 3"
   ]
  },
  {
   "cell_type": "markdown",
   "id": "592a7c05",
   "metadata": {},
   "source": [
    "8. Why is eggs a valid variable name while 100 is invalid?"
   ]
  },
  {
   "cell_type": "raw",
   "id": "5ee25c0d",
   "metadata": {},
   "source": [
    "This is because we cannot initiate variable names with a number."
   ]
  },
  {
   "cell_type": "markdown",
   "id": "4fd99011",
   "metadata": {},
   "source": [
    "9. What three functions can be used to get the integer, floating-point number, or string\n",
    "version of a value?"
   ]
  },
  {
   "cell_type": "raw",
   "id": "33a3bb0a",
   "metadata": {},
   "source": [
    "int() is used to get the integer.\n",
    "float() is used to get the floating-point number.\n",
    "str() is used to get the string version of a value."
   ]
  },
  {
   "cell_type": "markdown",
   "id": "ee0d66af",
   "metadata": {},
   "source": [
    "10. Why does this expression cause an error? How can you fix it?  \n",
    "&#39;I have eaten &#39; + 99 + &#39; burritos.&#39;"
   ]
  },
  {
   "cell_type": "raw",
   "id": "84fa9435",
   "metadata": {},
   "source": [
    "The error occurs because we cannot concatenate str with int. To make it happen, we nee to typecast the int value to str format."
   ]
  },
  {
   "cell_type": "code",
   "execution_count": 7,
   "id": "be7f16d0",
   "metadata": {},
   "outputs": [
    {
     "data": {
      "text/plain": [
       "'I have eaten 99 burritos.'"
      ]
     },
     "execution_count": 7,
     "metadata": {},
     "output_type": "execute_result"
    }
   ],
   "source": [
    "'I have eaten ' + str(99) + ' burritos.'"
   ]
  },
  {
   "cell_type": "code",
   "execution_count": null,
   "id": "ee48509a",
   "metadata": {},
   "outputs": [],
   "source": []
  }
 ],
 "metadata": {
  "kernelspec": {
   "display_name": "Python 3 (ipykernel)",
   "language": "python",
   "name": "python3"
  },
  "language_info": {
   "codemirror_mode": {
    "name": "ipython",
    "version": 3
   },
   "file_extension": ".py",
   "mimetype": "text/x-python",
   "name": "python",
   "nbconvert_exporter": "python",
   "pygments_lexer": "ipython3",
   "version": "3.9.12"
  }
 },
 "nbformat": 4,
 "nbformat_minor": 5
}
